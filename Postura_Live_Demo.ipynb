{
  "nbformat": 4,
  "nbformat_minor": 0,
  "metadata": {
    "colab": {
      "provenance": [],
      "authorship_tag": "ABX9TyOv0sCansJaNayg+bDiDNWH",
      "include_colab_link": true
    },
    "kernelspec": {
      "name": "python3",
      "display_name": "Python 3"
    },
    "language_info": {
      "name": "python"
    }
  },
  "cells": [
    {
      "cell_type": "markdown",
      "metadata": {
        "id": "view-in-github",
        "colab_type": "text"
      },
      "source": [
        "<a href=\"https://colab.research.google.com/github/andykofman/Postura/blob/main/Postura_Live_Demo.ipynb\" target=\"_parent\"><img src=\"https://colab.research.google.com/assets/colab-badge.svg\" alt=\"Open In Colab\"/></a>"
      ]
    },
    {
      "cell_type": "markdown",
      "source": [
        "**1) Get the project code**"
      ],
      "metadata": {
        "id": "UTSqBT5CE3bi"
      }
    },
    {
      "cell_type": "code",
      "execution_count": null,
      "metadata": {
        "id": "J_0ZfZtzElyN"
      },
      "outputs": [],
      "source": [
        "# Clean workspace repo folder\n",
        "!cd /content\n",
        "!rm -rf Postura\n",
        "!git clone https://github.com/andykofman/Postura.git"
      ]
    },
    {
      "cell_type": "markdown",
      "source": [
        "**2) Change dir to Postura**"
      ],
      "metadata": {
        "id": "srhhp2NQFGPb"
      }
    },
    {
      "cell_type": "code",
      "source": [
        "%cd /content/Postura"
      ],
      "metadata": {
        "id": "RveI51DLE7yo"
      },
      "execution_count": null,
      "outputs": []
    },
    {
      "cell_type": "markdown",
      "source": [
        "**3) Remove Colab extras that can force protobuf>=5 (conflicts with MediaPipe)**"
      ],
      "metadata": {
        "id": "l3Bd_cxrFNcC"
      }
    },
    {
      "cell_type": "code",
      "source": [
        "!pip uninstall -y ydf grpcio-status || true"
      ],
      "metadata": {
        "id": "h9Yq7I6VFLJ4"
      },
      "execution_count": null,
      "outputs": []
    },
    {
      "cell_type": "markdown",
      "source": [
        "**4) Install pinned dependencies (deterministic)**"
      ],
      "metadata": {
        "id": "zMd1v3YcFU37"
      }
    },
    {
      "cell_type": "code",
      "source": [
        "!python -V\n",
        "!python -m pip install --upgrade pip\n",
        "!pip install -r requirements.txt -c constraints.txt"
      ],
      "metadata": {
        "id": "RKhG1Gs7FRef"
      },
      "execution_count": null,
      "outputs": []
    },
    {
      "cell_type": "markdown",
      "source": [
        "**5) Hard-restart runtime so imports use the final environment**\n",
        "\n",
        "if already restarted, skip to **step 6**"
      ],
      "metadata": {
        "id": "7y_rsEIDFnLa"
      }
    },
    {
      "cell_type": "code",
      "source": [
        "import os, sys\n",
        "os.kill(os.getpid(), 9)"
      ],
      "metadata": {
        "id": "yuuHH1bNFZTs"
      },
      "execution_count": null,
      "outputs": []
    },
    {
      "cell_type": "markdown",
      "source": [
        "**6) (After restart) Re-enter the repo**"
      ],
      "metadata": {
        "id": "vIrGiXNCFzQU"
      }
    },
    {
      "cell_type": "code",
      "source": [
        "%cd /content/Postura"
      ],
      "metadata": {
        "id": "MUBp7BCvF4ja"
      },
      "execution_count": null,
      "outputs": []
    },
    {
      "cell_type": "markdown",
      "source": [
        "**7) Sanity checks (idempotent)**"
      ],
      "metadata": {
        "id": "vpRWKnZEGLFv"
      }
    },
    {
      "cell_type": "code",
      "source": [
        "!python scripts/colab_bootstrap.py --remove-colab-conflicts --run-mp-smoke"
      ],
      "metadata": {
        "id": "uzXLihwXGKrj"
      },
      "execution_count": null,
      "outputs": []
    },
    {
      "cell_type": "markdown",
      "source": [
        "**8) Start the API server in the background**"
      ],
      "metadata": {
        "id": "fLsCS7bIGWUH"
      }
    },
    {
      "cell_type": "code",
      "source": [
        "!pkill -f uvicorn || true\n",
        "!nohup uvicorn api.main:app --host 0.0.0.0 --port 8000 --workers 1 > uvicorn.log 2>&1 &\n",
        "!sleep 2 && sed -n '1,60p' uvicorn.log"
      ],
      "metadata": {
        "id": "64soeIZ1F7gU"
      },
      "execution_count": null,
      "outputs": []
    },
    {
      "cell_type": "markdown",
      "source": [
        "**9) Open ngrok tunnel (authenticated)**\n",
        "\n",
        "Enter: **url/ui**\n"
      ],
      "metadata": {
        "id": "g77m4cHhGc1x"
      }
    },
    {
      "cell_type": "code",
      "source": [
        "%pip -q install pyngrok\n",
        "from pyngrok import ngrok\n",
        "ngrok.kill()  # ensure clean slate\n",
        "ngrok.set_auth_token(\"31Ma6WurjHpwLKZYddslQ16M8v5_7QcAgcGLyeZty1bZ7eupf\")\n",
        "tunnel = ngrok.connect(8000, \"http\", bind_tls=True)\n",
        "public_url = tunnel.public_url\n",
        "public_url, f\"{public_url}/ui\""
      ],
      "metadata": {
        "collapsed": true,
        "id": "qIz0soJKGaKT"
      },
      "execution_count": null,
      "outputs": []
    },
    {
      "cell_type": "markdown",
      "source": [
        "**12) Stop the server and tunnel when done**"
      ],
      "metadata": {
        "id": "xRBaiPPBsxCb"
      }
    },
    {
      "cell_type": "code",
      "source": [
        "from pyngrok import ngrok\n",
        "ngrok.kill()"
      ],
      "metadata": {
        "id": "rSxhSN7FGglK"
      },
      "execution_count": null,
      "outputs": []
    },
    {
      "cell_type": "code",
      "source": [
        "!pkill -f uvicorn || true"
      ],
      "metadata": {
        "id": "Z67TkCDGsz8_"
      },
      "execution_count": null,
      "outputs": []
    },
    {
      "cell_type": "code",
      "source": [],
      "metadata": {
        "id": "h2obHSxCs2EA"
      },
      "execution_count": null,
      "outputs": []
    }
  ]
}