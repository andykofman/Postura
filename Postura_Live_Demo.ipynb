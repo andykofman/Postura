{
  "cells": [
    {
      "cell_type": "markdown",
      "metadata": {
        "colab_type": "text",
        "id": "view-in-github"
      },
      "source": [
        "<a href=\"https://colab.research.google.com/github/andykofman/Postura/blob/main/Postura_Live_Demo.ipynb\" target=\"_parent\"><img src=\"https://colab.research.google.com/assets/colab-badge.svg\" alt=\"Open In Colab\"/></a>"
      ]
    },
    {
      "cell_type": "markdown",
      "metadata": {
        "id": "UTSqBT5CE3bi"
      },
      "source": [
        "**1) Get the project code**"
      ]
    },
    {
      "cell_type": "code",
      "execution_count": null,
      "metadata": {
        "id": "J_0ZfZtzElyN"
      },
      "outputs": [],
      "source": [
        "# Clean workspace repo folder\n",
        "!cd /content\n",
        "!rm -rf Postura\n",
        "!git clone https://github.com/andykofman/Postura.git"
      ]
    },
    {
      "cell_type": "markdown",
      "metadata": {
        "id": "srhhp2NQFGPb"
      },
      "source": [
        "**2) Change dir to Postura**"
      ]
    },
    {
      "cell_type": "code",
      "execution_count": null,
      "metadata": {
        "id": "RveI51DLE7yo"
      },
      "outputs": [],
      "source": [
        "%cd /content/Postura"
      ]
    },
    {
      "cell_type": "markdown",
      "metadata": {
        "id": "l3Bd_cxrFNcC"
      },
      "source": [
        "**3) Remove Colab extras that can force protobuf>=5 (conflicts with MediaPipe)**"
      ]
    },
    {
      "cell_type": "code",
      "execution_count": null,
      "metadata": {
        "id": "h9Yq7I6VFLJ4"
      },
      "outputs": [],
      "source": [
        "!pip uninstall -y ydf grpcio-status || true"
      ]
    },
    {
      "cell_type": "markdown",
      "metadata": {
        "id": "zMd1v3YcFU37"
      },
      "source": [
        "**4) Install pinned dependencies (deterministic)**"
      ]
    },
    {
      "cell_type": "code",
      "execution_count": null,
      "metadata": {
        "id": "RKhG1Gs7FRef"
      },
      "outputs": [],
      "source": [
        "!python -V\n",
        "!python -m pip install --upgrade pip\n",
        "!pip install -r requirements.txt -c constraints.txt"
      ]
    },
    {
      "cell_type": "markdown",
      "metadata": {
        "id": "7y_rsEIDFnLa"
      },
      "source": [
        "**5) Hard-restart runtime so imports use the final environment**\n",
        "\n",
        "if already restarted, skip to **step 6**"
      ]
    },
    {
      "cell_type": "code",
      "execution_count": null,
      "metadata": {
        "id": "yuuHH1bNFZTs"
      },
      "outputs": [],
      "source": [
        "import os, sys\n",
        "os.kill(os.getpid(), 9)"
      ]
    },
    {
      "cell_type": "markdown",
      "metadata": {
        "id": "vIrGiXNCFzQU"
      },
      "source": [
        "**6) (After restart) Re-enter the repo**"
      ]
    },
    {
      "cell_type": "code",
      "execution_count": null,
      "metadata": {
        "id": "MUBp7BCvF4ja"
      },
      "outputs": [],
      "source": [
        "%cd /content/Postura"
      ]
    },
    {
      "cell_type": "markdown",
      "metadata": {
        "id": "vpRWKnZEGLFv"
      },
      "source": [
        "**7) Sanity checks (idempotent)**"
      ]
    },
    {
      "cell_type": "code",
      "execution_count": null,
      "metadata": {
        "id": "uzXLihwXGKrj"
      },
      "outputs": [],
      "source": [
        "!python scripts/colab_bootstrap.py --remove-colab-conflicts --run-mp-smoke"
      ]
    },
    {
      "cell_type": "markdown",
      "metadata": {
        "id": "fLsCS7bIGWUH"
      },
      "source": [
        "**8) Start the API server in the background**"
      ]
    },
    {
      "cell_type": "code",
      "execution_count": null,
      "metadata": {
        "id": "64soeIZ1F7gU"
      },
      "outputs": [],
      "source": [
        "!pkill -f uvicorn || true\n",
        "!nohup uvicorn api.main:app --host 0.0.0.0 --port 8000 --workers 1 > uvicorn.log 2>&1 &\n",
        "!sleep 2 && sed -n '1,60p' uvicorn.log"
      ]
    },
    {
      "cell_type": "markdown",
      "metadata": {
        "id": "g77m4cHhGc1x"
      },
      "source": [
        "**9) Open ngrok tunnel (authenticated)**\n",
        "\n",
        "Enter: **url/ui**\n"
      ]
    },
    {
      "cell_type": "code",
      "execution_count": null,
      "metadata": {
        "collapsed": true,
        "id": "qIz0soJKGaKT"
      },
      "outputs": [],
      "source": [
        "%pip -q install pyngrok\n",
        "from pyngrok import ngrok\n",
        "ngrok.kill()  # ensure clean slate\n",
        "ngrok.set_auth_token(\"31Ma6WurjHpwLKZYddslQ16M8v5_7QcAgcGLyeZty1bZ7eupf\")\n",
        "tunnel = ngrok.connect(8000, \"http\", bind_tls=True)\n",
        "public_url = tunnel.public_url\n",
        "public_url, f\"{public_url}/ui\""
      ]
    },
    {
      "cell_type": "markdown",
      "metadata": {
        "id": "xRBaiPPBsxCb"
      },
      "source": [
        "**12) Stop the server and tunnel when done**"
      ]
    },
    {
      "cell_type": "code",
      "execution_count": null,
      "metadata": {
        "id": "rSxhSN7FGglK"
      },
      "outputs": [],
      "source": [
        "from pyngrok import ngrok\n",
        "ngrok.kill()"
      ]
    },
    {
      "cell_type": "code",
      "execution_count": null,
      "metadata": {
        "id": "Z67TkCDGsz8_"
      },
      "outputs": [],
      "source": [
        "!pkill -f uvicorn || true"
      ]
    }
  ],
  "metadata": {
    "colab": {
      "authorship_tag": "ABX9TyOv0sCansJaNayg+bDiDNWH",
      "include_colab_link": true,
      "provenance": []
    },
    "kernelspec": {
      "display_name": "Python 3",
      "name": "python3"
    },
    "language_info": {
      "name": "python"
    }
  },
  "nbformat": 4,
  "nbformat_minor": 0
}
