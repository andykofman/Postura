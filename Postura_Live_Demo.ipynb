{
  "nbformat": 4,
  "nbformat_minor": 0,
  "metadata": {
    "colab": {
      "provenance": [],
      "authorship_tag": "ABX9TyP11Jci3h0fTsYbxsrdU4J0",
      "include_colab_link": true
    },
    "kernelspec": {
      "name": "python3",
      "display_name": "Python 3"
    },
    "language_info": {
      "name": "python"
    }
  },
  "cells": [
    {
      "cell_type": "markdown",
      "metadata": {
        "id": "view-in-github",
        "colab_type": "text"
      },
      "source": [
        "<a href=\"https://colab.research.google.com/github/andykofman/Postura/blob/main/Postura_Live_Demo.ipynb\" target=\"_parent\"><img src=\"https://colab.research.google.com/assets/colab-badge.svg\" alt=\"Open In Colab\"/></a>"
      ]
    },
    {
      "cell_type": "markdown",
      "source": [
        "**1) Get the project code**"
      ],
      "metadata": {
        "id": "UTSqBT5CE3bi"
      }
    },
    {
      "cell_type": "code",
      "execution_count": 1,
      "metadata": {
        "id": "J_0ZfZtzElyN",
        "colab": {
          "base_uri": "https://localhost:8080/"
        },
        "outputId": "fe254076-3966-4f67-9093-930b15c55eb3"
      },
      "outputs": [
        {
          "output_type": "stream",
          "name": "stdout",
          "text": [
            "Cloning into 'Postura'...\n",
            "remote: Enumerating objects: 208, done.\u001b[K\n",
            "remote: Counting objects: 100% (167/167), done.\u001b[K\n",
            "remote: Compressing objects: 100% (118/118), done.\u001b[K\n",
            "remote: Total 208 (delta 77), reused 128 (delta 43), pack-reused 41 (from 1)\u001b[K\n",
            "Receiving objects: 100% (208/208), 35.22 MiB | 37.26 MiB/s, done.\n",
            "Resolving deltas: 100% (81/81), done.\n"
          ]
        }
      ],
      "source": [
        "# Clean workspace repo folder\n",
        "!cd /content\n",
        "!rm -rf Postura\n",
        "!git clone https://github.com/andykofman/Postura.git"
      ]
    },
    {
      "cell_type": "markdown",
      "source": [
        "**2) Change dir to Postura**"
      ],
      "metadata": {
        "id": "srhhp2NQFGPb"
      }
    },
    {
      "cell_type": "code",
      "source": [
        "%cd /content/Postura"
      ],
      "metadata": {
        "id": "RveI51DLE7yo",
        "colab": {
          "base_uri": "https://localhost:8080/"
        },
        "outputId": "dde3ff6f-acc2-4c57-ba93-c8d0974e6b64"
      },
      "execution_count": 2,
      "outputs": [
        {
          "output_type": "stream",
          "name": "stdout",
          "text": [
            "/content/Postura\n"
          ]
        }
      ]
    },
    {
      "cell_type": "markdown",
      "source": [
        "**3) Remove Colab extras that can force protobuf>=5 (conflicts with MediaPipe)**"
      ],
      "metadata": {
        "id": "l3Bd_cxrFNcC"
      }
    },
    {
      "cell_type": "code",
      "source": [
        "!pip uninstall -y ydf grpcio-status || true"
      ],
      "metadata": {
        "id": "h9Yq7I6VFLJ4",
        "colab": {
          "base_uri": "https://localhost:8080/"
        },
        "outputId": "3d7ad081-0591-4402-c903-7a6c2afa9ae6"
      },
      "execution_count": 3,
      "outputs": [
        {
          "output_type": "stream",
          "name": "stdout",
          "text": [
            "Found existing installation: ydf 0.13.0\n",
            "Uninstalling ydf-0.13.0:\n",
            "  Successfully uninstalled ydf-0.13.0\n",
            "Found existing installation: grpcio-status 1.71.2\n",
            "Uninstalling grpcio-status-1.71.2:\n",
            "  Successfully uninstalled grpcio-status-1.71.2\n"
          ]
        }
      ]
    },
    {
      "cell_type": "markdown",
      "source": [
        "**4) Install pinned dependencies (deterministic)**"
      ],
      "metadata": {
        "id": "zMd1v3YcFU37"
      }
    },
    {
      "cell_type": "code",
      "source": [
        "!python -V\n",
        "!python -m pip install --upgrade pip\n",
        "!pip install -r requirements.txt -c constraints.txt"
      ],
      "metadata": {
        "id": "RKhG1Gs7FRef",
        "colab": {
          "base_uri": "https://localhost:8080/",
          "height": 1000
        },
        "outputId": "781ab0d7-d286-46a5-b5d5-a68f68e73ae6"
      },
      "execution_count": 4,
      "outputs": [
        {
          "output_type": "stream",
          "name": "stdout",
          "text": [
            "Python 3.11.13\n",
            "Requirement already satisfied: pip in /usr/local/lib/python3.11/dist-packages (24.1.2)\n",
            "Collecting pip\n",
            "  Downloading pip-25.2-py3-none-any.whl.metadata (4.7 kB)\n",
            "Downloading pip-25.2-py3-none-any.whl (1.8 MB)\n",
            "\u001b[2K   \u001b[90m━━━━━━━━━━━━━━━━━━━━━━━━━━━━━━━━━━━━━━━━\u001b[0m \u001b[32m1.8/1.8 MB\u001b[0m \u001b[31m17.3 MB/s\u001b[0m eta \u001b[36m0:00:00\u001b[0m\n",
            "\u001b[?25hInstalling collected packages: pip\n",
            "  Attempting uninstall: pip\n",
            "    Found existing installation: pip 24.1.2\n",
            "    Uninstalling pip-24.1.2:\n",
            "      Successfully uninstalled pip-24.1.2\n",
            "Successfully installed pip-25.2\n",
            "Collecting numpy==1.26.4 (from -r requirements.txt (line 4))\n",
            "  Downloading numpy-1.26.4-cp311-cp311-manylinux_2_17_x86_64.manylinux2014_x86_64.whl.metadata (61 kB)\n",
            "Collecting mediapipe==0.10.14 (from -r requirements.txt (line 5))\n",
            "  Downloading mediapipe-0.10.14-cp311-cp311-manylinux_2_17_x86_64.manylinux2014_x86_64.whl.metadata (9.7 kB)\n",
            "Collecting opencv-python-headless==4.10.0.84 (from -r requirements.txt (line 6))\n",
            "  Downloading opencv_python_headless-4.10.0.84-cp37-abi3-manylinux_2_17_x86_64.manylinux2014_x86_64.whl.metadata (20 kB)\n",
            "Collecting pytest==8.2.2 (from -r requirements.txt (line 7))\n",
            "  Downloading pytest-8.2.2-py3-none-any.whl.metadata (7.6 kB)\n",
            "Collecting fastapi==0.112.2 (from -r requirements.txt (line 8))\n",
            "  Downloading fastapi-0.112.2-py3-none-any.whl.metadata (27 kB)\n",
            "Collecting uvicorn==0.30.6 (from -r requirements.txt (line 9))\n",
            "  Downloading uvicorn-0.30.6-py3-none-any.whl.metadata (6.6 kB)\n",
            "Collecting matplotlib==3.8.4 (from -r requirements.txt (line 10))\n",
            "  Downloading matplotlib-3.8.4-cp311-cp311-manylinux_2_17_x86_64.manylinux2014_x86_64.whl.metadata (5.8 kB)\n",
            "Collecting reportlab==4.1.0 (from -r requirements.txt (line 11))\n",
            "  Downloading reportlab-4.1.0-py3-none-any.whl.metadata (1.4 kB)\n",
            "Collecting absl-py (from mediapipe==0.10.14->-r requirements.txt (line 5))\n",
            "  Downloading absl_py-2.1.0-py3-none-any.whl.metadata (2.3 kB)\n",
            "Collecting attrs>=19.1.0 (from mediapipe==0.10.14->-r requirements.txt (line 5))\n",
            "  Downloading attrs-24.2.0-py3-none-any.whl.metadata (11 kB)\n",
            "Collecting flatbuffers>=2.0 (from mediapipe==0.10.14->-r requirements.txt (line 5))\n",
            "  Downloading flatbuffers-23.5.26-py2.py3-none-any.whl.metadata (850 bytes)\n",
            "Requirement already satisfied: jax in /usr/local/lib/python3.11/dist-packages (from mediapipe==0.10.14->-r requirements.txt (line 5)) (0.5.3)\n",
            "Requirement already satisfied: jaxlib in /usr/local/lib/python3.11/dist-packages (from mediapipe==0.10.14->-r requirements.txt (line 5)) (0.5.3)\n",
            "Requirement already satisfied: opencv-contrib-python in /usr/local/lib/python3.11/dist-packages (from mediapipe==0.10.14->-r requirements.txt (line 5)) (4.12.0.88)\n",
            "Collecting protobuf<5,>=4.25.3 (from mediapipe==0.10.14->-r requirements.txt (line 5))\n",
            "  Downloading protobuf-4.25.3-cp37-abi3-manylinux2014_x86_64.whl.metadata (541 bytes)\n",
            "Collecting sounddevice>=0.4.4 (from mediapipe==0.10.14->-r requirements.txt (line 5))\n",
            "  Downloading sounddevice-0.5.2-py3-none-any.whl.metadata (1.6 kB)\n",
            "Requirement already satisfied: iniconfig in /usr/local/lib/python3.11/dist-packages (from pytest==8.2.2->-r requirements.txt (line 7)) (2.1.0)\n",
            "Requirement already satisfied: packaging in /usr/local/lib/python3.11/dist-packages (from pytest==8.2.2->-r requirements.txt (line 7)) (25.0)\n",
            "Requirement already satisfied: pluggy<2.0,>=1.5 in /usr/local/lib/python3.11/dist-packages (from pytest==8.2.2->-r requirements.txt (line 7)) (1.6.0)\n",
            "Collecting starlette<0.39.0,>=0.37.2 (from fastapi==0.112.2->-r requirements.txt (line 8))\n",
            "  Downloading starlette-0.38.6-py3-none-any.whl.metadata (6.0 kB)\n",
            "Requirement already satisfied: pydantic!=1.8,!=1.8.1,!=2.0.0,!=2.0.1,!=2.1.0,<3.0.0,>=1.7.4 in /usr/local/lib/python3.11/dist-packages (from fastapi==0.112.2->-r requirements.txt (line 8)) (2.11.7)\n",
            "Requirement already satisfied: typing-extensions>=4.8.0 in /usr/local/lib/python3.11/dist-packages (from fastapi==0.112.2->-r requirements.txt (line 8)) (4.14.1)\n",
            "Requirement already satisfied: click>=7.0 in /usr/local/lib/python3.11/dist-packages (from uvicorn==0.30.6->-r requirements.txt (line 9)) (8.2.1)\n",
            "Requirement already satisfied: h11>=0.8 in /usr/local/lib/python3.11/dist-packages (from uvicorn==0.30.6->-r requirements.txt (line 9)) (0.16.0)\n",
            "Requirement already satisfied: contourpy>=1.0.1 in /usr/local/lib/python3.11/dist-packages (from matplotlib==3.8.4->-r requirements.txt (line 10)) (1.3.3)\n",
            "Requirement already satisfied: cycler>=0.10 in /usr/local/lib/python3.11/dist-packages (from matplotlib==3.8.4->-r requirements.txt (line 10)) (0.12.1)\n",
            "Requirement already satisfied: fonttools>=4.22.0 in /usr/local/lib/python3.11/dist-packages (from matplotlib==3.8.4->-r requirements.txt (line 10)) (4.59.0)\n",
            "Requirement already satisfied: kiwisolver>=1.3.1 in /usr/local/lib/python3.11/dist-packages (from matplotlib==3.8.4->-r requirements.txt (line 10)) (1.4.9)\n",
            "Requirement already satisfied: pillow>=8 in /usr/local/lib/python3.11/dist-packages (from matplotlib==3.8.4->-r requirements.txt (line 10)) (11.3.0)\n",
            "Requirement already satisfied: pyparsing>=2.3.1 in /usr/local/lib/python3.11/dist-packages (from matplotlib==3.8.4->-r requirements.txt (line 10)) (3.2.3)\n",
            "Requirement already satisfied: python-dateutil>=2.7 in /usr/local/lib/python3.11/dist-packages (from matplotlib==3.8.4->-r requirements.txt (line 10)) (2.9.0.post0)\n",
            "Requirement already satisfied: chardet in /usr/local/lib/python3.11/dist-packages (from reportlab==4.1.0->-r requirements.txt (line 11)) (5.2.0)\n",
            "Requirement already satisfied: annotated-types>=0.6.0 in /usr/local/lib/python3.11/dist-packages (from pydantic!=1.8,!=1.8.1,!=2.0.0,!=2.0.1,!=2.1.0,<3.0.0,>=1.7.4->fastapi==0.112.2->-r requirements.txt (line 8)) (0.7.0)\n",
            "Requirement already satisfied: pydantic-core==2.33.2 in /usr/local/lib/python3.11/dist-packages (from pydantic!=1.8,!=1.8.1,!=2.0.0,!=2.0.1,!=2.1.0,<3.0.0,>=1.7.4->fastapi==0.112.2->-r requirements.txt (line 8)) (2.33.2)\n",
            "Requirement already satisfied: typing-inspection>=0.4.0 in /usr/local/lib/python3.11/dist-packages (from pydantic!=1.8,!=1.8.1,!=2.0.0,!=2.0.1,!=2.1.0,<3.0.0,>=1.7.4->fastapi==0.112.2->-r requirements.txt (line 8)) (0.4.1)\n",
            "Requirement already satisfied: anyio<5,>=3.4.0 in /usr/local/lib/python3.11/dist-packages (from starlette<0.39.0,>=0.37.2->fastapi==0.112.2->-r requirements.txt (line 8)) (4.10.0)\n",
            "Requirement already satisfied: idna>=2.8 in /usr/local/lib/python3.11/dist-packages (from anyio<5,>=3.4.0->starlette<0.39.0,>=0.37.2->fastapi==0.112.2->-r requirements.txt (line 8)) (3.10)\n",
            "Requirement already satisfied: sniffio>=1.1 in /usr/local/lib/python3.11/dist-packages (from anyio<5,>=3.4.0->starlette<0.39.0,>=0.37.2->fastapi==0.112.2->-r requirements.txt (line 8)) (1.3.1)\n",
            "Requirement already satisfied: six>=1.5 in /usr/local/lib/python3.11/dist-packages (from python-dateutil>=2.7->matplotlib==3.8.4->-r requirements.txt (line 10)) (1.17.0)\n",
            "Requirement already satisfied: CFFI>=1.0 in /usr/local/lib/python3.11/dist-packages (from sounddevice>=0.4.4->mediapipe==0.10.14->-r requirements.txt (line 5)) (1.17.1)\n",
            "Requirement already satisfied: pycparser in /usr/local/lib/python3.11/dist-packages (from CFFI>=1.0->sounddevice>=0.4.4->mediapipe==0.10.14->-r requirements.txt (line 5)) (2.22)\n",
            "Requirement already satisfied: ml_dtypes>=0.4.0 in /usr/local/lib/python3.11/dist-packages (from jax->mediapipe==0.10.14->-r requirements.txt (line 5)) (0.5.3)\n",
            "Requirement already satisfied: opt_einsum in /usr/local/lib/python3.11/dist-packages (from jax->mediapipe==0.10.14->-r requirements.txt (line 5)) (3.4.0)\n",
            "Requirement already satisfied: scipy>=1.11.1 in /usr/local/lib/python3.11/dist-packages (from jax->mediapipe==0.10.14->-r requirements.txt (line 5)) (1.16.1)\n",
            "INFO: pip is looking at multiple versions of opencv-contrib-python to determine which version is compatible with other requirements. This could take a while.\n",
            "Collecting opencv-contrib-python (from mediapipe==0.10.14->-r requirements.txt (line 5))\n",
            "  Downloading opencv_contrib_python-4.11.0.86-cp37-abi3-manylinux_2_17_x86_64.manylinux2014_x86_64.whl.metadata (20 kB)\n",
            "Downloading numpy-1.26.4-cp311-cp311-manylinux_2_17_x86_64.manylinux2014_x86_64.whl (18.3 MB)\n",
            "\u001b[2K   \u001b[90m━━━━━━━━━━━━━━━━━━━━━━━━━━━━━━━━━━━━━━━━\u001b[0m \u001b[32m18.3/18.3 MB\u001b[0m \u001b[31m103.8 MB/s\u001b[0m  \u001b[33m0:00:00\u001b[0m\n",
            "\u001b[?25hDownloading mediapipe-0.10.14-cp311-cp311-manylinux_2_17_x86_64.manylinux2014_x86_64.whl (35.7 MB)\n",
            "\u001b[2K   \u001b[90m━━━━━━━━━━━━━━━━━━━━━━━━━━━━━━━━━━━━━━━━\u001b[0m \u001b[32m35.7/35.7 MB\u001b[0m \u001b[31m57.8 MB/s\u001b[0m  \u001b[33m0:00:00\u001b[0m\n",
            "\u001b[?25hDownloading opencv_python_headless-4.10.0.84-cp37-abi3-manylinux_2_17_x86_64.manylinux2014_x86_64.whl (49.9 MB)\n",
            "\u001b[2K   \u001b[90m━━━━━━━━━━━━━━━━━━━━━━━━━━━━━━━━━━━━━━━━\u001b[0m \u001b[32m49.9/49.9 MB\u001b[0m \u001b[31m49.0 MB/s\u001b[0m  \u001b[33m0:00:01\u001b[0m\n",
            "\u001b[?25hDownloading pytest-8.2.2-py3-none-any.whl (339 kB)\n",
            "Downloading fastapi-0.112.2-py3-none-any.whl (93 kB)\n",
            "Downloading uvicorn-0.30.6-py3-none-any.whl (62 kB)\n",
            "Downloading matplotlib-3.8.4-cp311-cp311-manylinux_2_17_x86_64.manylinux2014_x86_64.whl (11.6 MB)\n",
            "\u001b[2K   \u001b[90m━━━━━━━━━━━━━━━━━━━━━━━━━━━━━━━━━━━━━━━━\u001b[0m \u001b[32m11.6/11.6 MB\u001b[0m \u001b[31m149.8 MB/s\u001b[0m  \u001b[33m0:00:00\u001b[0m\n",
            "\u001b[?25hDownloading reportlab-4.1.0-py3-none-any.whl (1.9 MB)\n",
            "\u001b[2K   \u001b[90m━━━━━━━━━━━━━━━━━━━━━━━━━━━━━━━━━━━━━━━━\u001b[0m \u001b[32m1.9/1.9 MB\u001b[0m \u001b[31m81.3 MB/s\u001b[0m  \u001b[33m0:00:00\u001b[0m\n",
            "\u001b[?25hDownloading protobuf-4.25.3-cp37-abi3-manylinux2014_x86_64.whl (294 kB)\n",
            "Downloading starlette-0.38.6-py3-none-any.whl (71 kB)\n",
            "Downloading attrs-24.2.0-py3-none-any.whl (63 kB)\n",
            "Downloading flatbuffers-23.5.26-py2.py3-none-any.whl (26 kB)\n",
            "Downloading sounddevice-0.5.2-py3-none-any.whl (32 kB)\n",
            "Downloading absl_py-2.1.0-py3-none-any.whl (133 kB)\n",
            "Downloading opencv_contrib_python-4.11.0.86-cp37-abi3-manylinux_2_17_x86_64.manylinux2014_x86_64.whl (69.1 MB)\n",
            "\u001b[2K   \u001b[90m━━━━━━━━━━━━━━━━━━━━━━━━━━━━━━━━━━━━━━━━\u001b[0m \u001b[32m69.1/69.1 MB\u001b[0m \u001b[31m58.5 MB/s\u001b[0m  \u001b[33m0:00:01\u001b[0m\n",
            "\u001b[?25hInstalling collected packages: flatbuffers, uvicorn, reportlab, pytest, protobuf, numpy, attrs, absl-py, starlette, sounddevice, opencv-python-headless, opencv-contrib-python, matplotlib, fastapi, mediapipe\n",
            "\u001b[2K  Attempting uninstall: flatbuffers\n",
            "\u001b[2K    Found existing installation: flatbuffers 25.2.10\n",
            "\u001b[2K    Uninstalling flatbuffers-25.2.10:\n",
            "\u001b[2K      Successfully uninstalled flatbuffers-25.2.10\n",
            "\u001b[2K  Attempting uninstall: uvicorn\n",
            "\u001b[2K    Found existing installation: uvicorn 0.35.0\n",
            "\u001b[2K    Uninstalling uvicorn-0.35.0:\n",
            "\u001b[2K      Successfully uninstalled uvicorn-0.35.0\n",
            "\u001b[2K  Attempting uninstall: pytest\n",
            "\u001b[2K    Found existing installation: pytest 8.4.1\n",
            "\u001b[2K    Uninstalling pytest-8.4.1:\n",
            "\u001b[2K      Successfully uninstalled pytest-8.4.1\n",
            "\u001b[2K  Attempting uninstall: protobuf\n",
            "\u001b[2K    Found existing installation: protobuf 5.29.5\n",
            "\u001b[2K    Uninstalling protobuf-5.29.5:\n",
            "\u001b[2K      Successfully uninstalled protobuf-5.29.5\n",
            "\u001b[2K  Attempting uninstall: numpy\n",
            "\u001b[2K    Found existing installation: numpy 2.0.2\n",
            "\u001b[2K    Uninstalling numpy-2.0.2:\n",
            "\u001b[2K      Successfully uninstalled numpy-2.0.2\n",
            "\u001b[2K  Attempting uninstall: attrs\n",
            "\u001b[2K    Found existing installation: attrs 25.3.0\n",
            "\u001b[2K    Uninstalling attrs-25.3.0:\n",
            "\u001b[2K      Successfully uninstalled attrs-25.3.0\n",
            "\u001b[2K  Attempting uninstall: absl-py\n",
            "\u001b[2K    Found existing installation: absl-py 1.4.0\n",
            "\u001b[2K    Uninstalling absl-py-1.4.0:\n",
            "\u001b[2K      Successfully uninstalled absl-py-1.4.0\n",
            "\u001b[2K  Attempting uninstall: starlette\n",
            "\u001b[2K    Found existing installation: starlette 0.47.2\n",
            "\u001b[2K    Uninstalling starlette-0.47.2:\n",
            "\u001b[2K      Successfully uninstalled starlette-0.47.2\n",
            "\u001b[2K  Attempting uninstall: opencv-python-headless\n",
            "\u001b[2K    Found existing installation: opencv-python-headless 4.12.0.88\n",
            "\u001b[2K    Uninstalling opencv-python-headless-4.12.0.88:\n",
            "\u001b[2K      Successfully uninstalled opencv-python-headless-4.12.0.88\n",
            "\u001b[2K  Attempting uninstall: opencv-contrib-python\n",
            "\u001b[2K    Found existing installation: opencv-contrib-python 4.12.0.88\n",
            "\u001b[2K    Uninstalling opencv-contrib-python-4.12.0.88:\n",
            "\u001b[2K      Successfully uninstalled opencv-contrib-python-4.12.0.88\n",
            "\u001b[2K  Attempting uninstall: matplotlib\n",
            "\u001b[2K    Found existing installation: matplotlib 3.10.0\n",
            "\u001b[2K    Uninstalling matplotlib-3.10.0:\n",
            "\u001b[2K      Successfully uninstalled matplotlib-3.10.0\n",
            "\u001b[2K  Attempting uninstall: fastapi\n",
            "\u001b[2K    Found existing installation: fastapi 0.116.1\n",
            "\u001b[2K    Uninstalling fastapi-0.116.1:\n",
            "\u001b[2K      Successfully uninstalled fastapi-0.116.1\n",
            "\u001b[2K   \u001b[90m━━━━━━━━━━━━━━━━━━━━━━━━━━━━━━━━━━━━━━━━\u001b[0m \u001b[32m15/15\u001b[0m [mediapipe]\n",
            "\u001b[1A\u001b[2K\u001b[31mERROR: pip's dependency resolver does not currently take into account all the packages that are installed. This behaviour is the source of the following dependency conflicts.\n",
            "tensorflow-decision-forests 1.12.0 requires ydf>=0.11.0, which is not installed.\n",
            "tensorflow 2.19.0 requires flatbuffers>=24.3.25, but you have flatbuffers 23.5.26 which is incompatible.\n",
            "opencv-python 4.12.0.88 requires numpy<2.3.0,>=2; python_version >= \"3.9\", but you have numpy 1.26.4 which is incompatible.\n",
            "gradio 5.42.0 requires fastapi<1.0,>=0.115.2, but you have fastapi 0.112.2 which is incompatible.\n",
            "gradio 5.42.0 requires starlette<1.0,>=0.40.0; sys_platform != \"emscripten\", but you have starlette 0.38.6 which is incompatible.\n",
            "thinc 8.3.6 requires numpy<3.0.0,>=2.0.0, but you have numpy 1.26.4 which is incompatible.\u001b[0m\u001b[31m\n",
            "\u001b[0mSuccessfully installed absl-py-2.1.0 attrs-24.2.0 fastapi-0.112.2 flatbuffers-23.5.26 matplotlib-3.8.4 mediapipe-0.10.14 numpy-1.26.4 opencv-contrib-python-4.11.0.86 opencv-python-headless-4.10.0.84 protobuf-4.25.3 pytest-8.2.2 reportlab-4.1.0 sounddevice-0.5.2 starlette-0.38.6 uvicorn-0.30.6\n"
          ]
        },
        {
          "output_type": "display_data",
          "data": {
            "application/vnd.colab-display-data+json": {
              "pip_warning": {
                "packages": [
                  "google",
                  "matplotlib",
                  "mpl_toolkits",
                  "numpy"
                ]
              },
              "id": "77bce2a3b3d24770b648cc2632f9ec09"
            }
          },
          "metadata": {}
        }
      ]
    },
    {
      "cell_type": "markdown",
      "source": [
        "**5) Hard-restart runtime so imports use the final environment**\n",
        "\n",
        "if already restarted, skip to **step 6**"
      ],
      "metadata": {
        "id": "7y_rsEIDFnLa"
      }
    },
    {
      "cell_type": "code",
      "source": [
        "import os, sys\n",
        "os.kill(os.getpid(), 9)"
      ],
      "metadata": {
        "id": "yuuHH1bNFZTs"
      },
      "execution_count": null,
      "outputs": []
    },
    {
      "cell_type": "markdown",
      "source": [
        "**6) (After restart) Re-enter the repo**"
      ],
      "metadata": {
        "id": "vIrGiXNCFzQU"
      }
    },
    {
      "cell_type": "code",
      "source": [
        "%cd /content/Postura"
      ],
      "metadata": {
        "id": "MUBp7BCvF4ja",
        "colab": {
          "base_uri": "https://localhost:8080/"
        },
        "outputId": "f53ff0f2-2606-424b-f0a3-5afa2ce32fd9"
      },
      "execution_count": 1,
      "outputs": [
        {
          "output_type": "stream",
          "name": "stdout",
          "text": [
            "/content/Postura\n"
          ]
        }
      ]
    },
    {
      "cell_type": "markdown",
      "source": [
        "**7) Sanity checks (idempotent)**"
      ],
      "metadata": {
        "id": "vpRWKnZEGLFv"
      }
    },
    {
      "cell_type": "code",
      "source": [
        "!python scripts/colab_bootstrap.py --remove-colab-conflicts --run-mp-smoke"
      ],
      "metadata": {
        "id": "uzXLihwXGKrj"
      },
      "execution_count": null,
      "outputs": []
    },
    {
      "cell_type": "markdown",
      "source": [
        "**8) Start the API server in the background**"
      ],
      "metadata": {
        "id": "fLsCS7bIGWUH"
      }
    },
    {
      "cell_type": "code",
      "source": [
        "!pkill -f uvicorn || true\n",
        "!nohup uvicorn api.main:app --host 0.0.0.0 --port 8000 --workers 1 > uvicorn.log 2>&1 &\n",
        "!sleep 2 && sed -n '1,60p' uvicorn.log"
      ],
      "metadata": {
        "id": "64soeIZ1F7gU",
        "colab": {
          "base_uri": "https://localhost:8080/"
        },
        "outputId": "3d8b6740-8dd3-4e45-e44c-89b98b7152d3"
      },
      "execution_count": 2,
      "outputs": [
        {
          "output_type": "stream",
          "name": "stdout",
          "text": [
            "^C\n",
            "INFO:     Started server process [964]\n",
            "INFO:     Waiting for application startup.\n",
            "INFO:     Application startup complete.\n",
            "INFO:     Uvicorn running on http://0.0.0.0:8000 (Press CTRL+C to quit)\n"
          ]
        }
      ]
    },
    {
      "cell_type": "markdown",
      "source": [
        "**9) Open ngrok tunnel (authenticated)**\n",
        "\n",
        "Enter: **url/ui**\n"
      ],
      "metadata": {
        "id": "g77m4cHhGc1x"
      }
    },
    {
      "cell_type": "code",
      "source": [
        "%pip -q install pyngrok\n",
        "from pyngrok import ngrok\n",
        "ngrok.kill()  # ensure clean slate\n",
        "ngrok.set_auth_token(\"31Ma6WurjHpwLKZYddslQ16M8v5_7QcAgcGLyeZty1bZ7eupf\")\n",
        "tunnel = ngrok.connect(8000, \"http\", bind_tls=True)\n",
        "public_url = tunnel.public_url\n",
        "public_url, f\"{public_url}/ui\""
      ],
      "metadata": {
        "collapsed": true,
        "id": "qIz0soJKGaKT",
        "colab": {
          "base_uri": "https://localhost:8080/"
        },
        "outputId": "ac5de8aa-cad3-42f4-9373-6f3f6b3d58c1"
      },
      "execution_count": 5,
      "outputs": [
        {
          "output_type": "execute_result",
          "data": {
            "text/plain": [
              "('https://f17c85bac0af.ngrok-free.app',\n",
              " 'https://f17c85bac0af.ngrok-free.app/ui')"
            ]
          },
          "metadata": {},
          "execution_count": 5
        }
      ]
    },
    {
      "cell_type": "markdown",
      "source": [
        "**12) Stop the server and tunnel when done**"
      ],
      "metadata": {
        "id": "xRBaiPPBsxCb"
      }
    },
    {
      "cell_type": "code",
      "source": [
        "from pyngrok import ngrok\n",
        "ngrok.kill()"
      ],
      "metadata": {
        "id": "rSxhSN7FGglK"
      },
      "execution_count": 7,
      "outputs": []
    },
    {
      "cell_type": "code",
      "source": [
        "!pkill -f uvicorn || true"
      ],
      "metadata": {
        "id": "Z67TkCDGsz8_"
      },
      "execution_count": null,
      "outputs": []
    },
    {
      "cell_type": "code",
      "source": [
        "%pwd"
      ],
      "metadata": {
        "colab": {
          "base_uri": "https://localhost:8080/",
          "height": 36
        },
        "id": "aAwWJMCMAhML",
        "outputId": "3792b18c-2c96-40be-b01a-b0dad8f1fbe5"
      },
      "execution_count": 9,
      "outputs": [
        {
          "output_type": "execute_result",
          "data": {
            "text/plain": [
              "'/content/Postura'"
            ],
            "application/vnd.google.colaboratory.intrinsic+json": {
              "type": "string"
            }
          },
          "metadata": {},
          "execution_count": 9
        }
      ]
    },
    {
      "cell_type": "code",
      "source": [
        "# If you ran the ngrok cell, `public_url` is defined. Otherwise fallback to proxy/localhost.\n",
        "import os, time, json, requests\n",
        "try:\n",
        "    BASE = public_url\n",
        "except NameError:\n",
        "    try:\n",
        "        from google.colab import output\n",
        "        BASE = output.eval_js(\"google.colab.kernel.proxyPort(8000)\")\n",
        "    except Exception:\n",
        "        BASE = \"http://127.0.0.1:8000\"\n",
        "print(\"BASE:\", BASE)\n",
        "\n",
        "def submit_and_wait(path):\n",
        "    with open(path,'rb') as f:\n",
        "        r = requests.post(f\"{BASE}/analyze\", files={\"file\": (os.path.basename(path), f, \"video/mp4\")})\n",
        "    r.raise_for_status()\n",
        "    job = r.json()[\"video_id\"]\n",
        "    print(\"job:\", job)\n",
        "    # poll until done\n",
        "    while True:\n",
        "        s = requests.get(f\"{BASE}/status/{job}\").json()\n",
        "        if s.get(\"status\") in {\"done\",\"error\"}:\n",
        "            print(\"status:\", s.get(\"status\"))\n",
        "            break\n",
        "        time.sleep(1)\n",
        "    res = requests.get(f\"{BASE}/result/{job}\").json()\n",
        "    print(json.dumps(res.get(\"summary\", res), indent=2))\n",
        "    print(\"Results page:\", f\"{BASE}/ui/result.html?video_id={job}\")\n",
        "    print(\"PDF:\", f\"{BASE}/report/{job}.pdf\")\n",
        "    return job, res\n",
        "\n",
        "# Try a squat demo\n",
        "submit_and_wait(\"/content/Postura/demo/squats.mp4\")"
      ],
      "metadata": {
        "id": "h2obHSxCs2EA",
        "colab": {
          "base_uri": "https://localhost:8080/",
          "height": 348
        },
        "outputId": "7f6b5252-dbda-4e8e-e3cd-76e2b4bb511f"
      },
      "execution_count": 8,
      "outputs": [
        {
          "output_type": "stream",
          "name": "stdout",
          "text": [
            "BASE: https://f17c85bac0af.ngrok-free.app\n"
          ]
        },
        {
          "output_type": "error",
          "ename": "FileNotFoundError",
          "evalue": "[Errno 2] No such file or directory: 'demo/squats.mp4'",
          "traceback": [
            "\u001b[0;31m---------------------------------------------------------------------------\u001b[0m",
            "\u001b[0;31mFileNotFoundError\u001b[0m                         Traceback (most recent call last)",
            "\u001b[0;32m/tmp/ipython-input-1663526833.py\u001b[0m in \u001b[0;36m<cell line: 0>\u001b[0;34m()\u001b[0m\n\u001b[1;32m     31\u001b[0m \u001b[0;34m\u001b[0m\u001b[0m\n\u001b[1;32m     32\u001b[0m \u001b[0;31m# Try a squat demo\u001b[0m\u001b[0;34m\u001b[0m\u001b[0;34m\u001b[0m\u001b[0m\n\u001b[0;32m---> 33\u001b[0;31m \u001b[0msubmit_and_wait\u001b[0m\u001b[0;34m(\u001b[0m\u001b[0;34m\"demo/squats.mp4\"\u001b[0m\u001b[0;34m)\u001b[0m\u001b[0;34m\u001b[0m\u001b[0;34m\u001b[0m\u001b[0m\n\u001b[0m",
            "\u001b[0;32m/tmp/ipython-input-1663526833.py\u001b[0m in \u001b[0;36msubmit_and_wait\u001b[0;34m(path)\u001b[0m\n\u001b[1;32m     12\u001b[0m \u001b[0;34m\u001b[0m\u001b[0m\n\u001b[1;32m     13\u001b[0m \u001b[0;32mdef\u001b[0m \u001b[0msubmit_and_wait\u001b[0m\u001b[0;34m(\u001b[0m\u001b[0mpath\u001b[0m\u001b[0;34m)\u001b[0m\u001b[0;34m:\u001b[0m\u001b[0;34m\u001b[0m\u001b[0;34m\u001b[0m\u001b[0m\n\u001b[0;32m---> 14\u001b[0;31m     \u001b[0;32mwith\u001b[0m \u001b[0mopen\u001b[0m\u001b[0;34m(\u001b[0m\u001b[0mpath\u001b[0m\u001b[0;34m,\u001b[0m\u001b[0;34m'rb'\u001b[0m\u001b[0;34m)\u001b[0m \u001b[0;32mas\u001b[0m \u001b[0mf\u001b[0m\u001b[0;34m:\u001b[0m\u001b[0;34m\u001b[0m\u001b[0;34m\u001b[0m\u001b[0m\n\u001b[0m\u001b[1;32m     15\u001b[0m         \u001b[0mr\u001b[0m \u001b[0;34m=\u001b[0m \u001b[0mrequests\u001b[0m\u001b[0;34m.\u001b[0m\u001b[0mpost\u001b[0m\u001b[0;34m(\u001b[0m\u001b[0;34mf\"{BASE}/analyze\"\u001b[0m\u001b[0;34m,\u001b[0m \u001b[0mfiles\u001b[0m\u001b[0;34m=\u001b[0m\u001b[0;34m{\u001b[0m\u001b[0;34m\"file\"\u001b[0m\u001b[0;34m:\u001b[0m \u001b[0;34m(\u001b[0m\u001b[0mos\u001b[0m\u001b[0;34m.\u001b[0m\u001b[0mpath\u001b[0m\u001b[0;34m.\u001b[0m\u001b[0mbasename\u001b[0m\u001b[0;34m(\u001b[0m\u001b[0mpath\u001b[0m\u001b[0;34m)\u001b[0m\u001b[0;34m,\u001b[0m \u001b[0mf\u001b[0m\u001b[0;34m,\u001b[0m \u001b[0;34m\"video/mp4\"\u001b[0m\u001b[0;34m)\u001b[0m\u001b[0;34m}\u001b[0m\u001b[0;34m)\u001b[0m\u001b[0;34m\u001b[0m\u001b[0;34m\u001b[0m\u001b[0m\n\u001b[1;32m     16\u001b[0m     \u001b[0mr\u001b[0m\u001b[0;34m.\u001b[0m\u001b[0mraise_for_status\u001b[0m\u001b[0;34m(\u001b[0m\u001b[0;34m)\u001b[0m\u001b[0;34m\u001b[0m\u001b[0;34m\u001b[0m\u001b[0m\n",
            "\u001b[0;31mFileNotFoundError\u001b[0m: [Errno 2] No such file or directory: 'demo/squats.mp4'"
          ]
        }
      ]
    },
    {
      "cell_type": "code",
      "source": [],
      "metadata": {
        "id": "hsChqXevATXQ"
      },
      "execution_count": null,
      "outputs": []
    }
  ]
}